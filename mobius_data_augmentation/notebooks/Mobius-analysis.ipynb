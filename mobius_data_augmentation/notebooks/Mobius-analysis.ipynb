{
 "cells": [
  {
   "cell_type": "code",
   "execution_count": 1,
   "metadata": {},
   "outputs": [],
   "source": [
    "import pandas as pd\n",
    "import numpy as np\n",
    "from collections import defaultdict"
   ]
  },
  {
   "cell_type": "markdown",
   "metadata": {},
   "source": [
    "# Bio vs. non-bio"
   ]
  },
  {
   "cell_type": "code",
   "execution_count": 3,
   "metadata": {},
   "outputs": [
    {
     "name": "stdout",
     "output_type": "stream",
     "text": [
      "nonbio: 3500 examples, with mean 0.8677142857142857 std dev 0.33880112762745146\n",
      "bio: 6500 examples, with mean 0.7947692307692308 std dev 0.40387015313305336\n",
      "large natural outdoor scenes: 500 examples, with mean 0.852 std dev 0.35509998591945907\n",
      "aquatic mammals: 500 examples, with mean 0.73 std dev 0.4439594576084623\n",
      "fruit and vegetables: 500 examples, with mean 0.862 std dev 0.344899985503044\n",
      "flowers: 500 examples, with mean 0.86 std dev 0.34698703145794946\n",
      "large omnivores and herbivores: 500 examples, with mean 0.844 std dev 0.3628553430776512\n",
      "insects: 500 examples, with mean 0.85 std dev 0.3570714214271425\n",
      "medium-sized mammals: 500 examples, with mean 0.826 std dev 0.3791094828674165\n",
      "vehicles 2: 500 examples, with mean 0.918 std dev 0.2743647207641682\n",
      "household electrical device: 500 examples, with mean 0.864 std dev 0.3427885645700568\n",
      "large carnivores: 500 examples, with mean 0.838 std dev 0.3684508108282569\n",
      "reptiles: 500 examples, with mean 0.738 std dev 0.43972263985380605\n",
      "food containers: 500 examples, with mean 0.796 std dev 0.4029689814365368\n",
      "vehicles 1: 500 examples, with mean 0.886 std dev 0.317811264746862\n",
      "household furniture: 500 examples, with mean 0.86 std dev 0.34698703145794946\n",
      "trees: 500 examples, with mean 0.758 std dev 0.42829429134649927\n",
      "fish: 500 examples, with mean 0.818 std dev 0.38584452827531457\n",
      "people: 500 examples, with mean 0.646 std dev 0.47820915925983687\n",
      "large man-made outdoor things: 500 examples, with mean 0.898 std dev 0.3026483107502832\n",
      "non-insect invertebrates: 500 examples, with mean 0.814 std dev 0.38910666917954523\n",
      "small mammals: 500 examples, with mean 0.748 std dev 0.43416126036301306\n",
      "nonbio: 3500 examples, with mean 0.8717142857142857 std dev 0.33440767006143624\n",
      "bio: 6500 examples, with mean 0.808923076923077 std dev 0.39314950406223165\n",
      "large natural outdoor scenes: 500 examples, with mean 0.872 std dev 0.33408980828513757\n",
      "aquatic mammals: 500 examples, with mean 0.744 std dev 0.4364218143035474\n",
      "fruit and vegetables: 500 examples, with mean 0.896 std dev 0.30526054445342266\n",
      "flowers: 500 examples, with mean 0.856 std dev 0.35108973211986705\n",
      "large omnivores and herbivores: 500 examples, with mean 0.848 std dev 0.35902089075707005\n",
      "insects: 500 examples, with mean 0.858 std dev 0.3490501396647765\n",
      "medium-sized mammals: 500 examples, with mean 0.852 std dev 0.35509998591945907\n",
      "vehicles 2: 500 examples, with mean 0.902 std dev 0.29731464814233416\n",
      "household electrical device: 500 examples, with mean 0.87 std dev 0.33630343441600474\n",
      "large carnivores: 500 examples, with mean 0.844 std dev 0.3628553430776512\n",
      "reptiles: 500 examples, with mean 0.772 std dev 0.41954260808647315\n",
      "food containers: 500 examples, with mean 0.806 std dev 0.395428881089887\n",
      "vehicles 1: 500 examples, with mean 0.908 std dev 0.289025950392002\n",
      "household furniture: 500 examples, with mean 0.848 std dev 0.35902089075707005\n",
      "trees: 500 examples, with mean 0.744 std dev 0.4364218143035474\n",
      "fish: 500 examples, with mean 0.824 std dev 0.380820167533181\n",
      "people: 500 examples, with mean 0.668 std dev 0.47093099282166595\n",
      "large man-made outdoor things: 500 examples, with mean 0.896 std dev 0.30526054445342266\n",
      "non-insect invertebrates: 500 examples, with mean 0.82 std dev 0.38418745424597084\n",
      "small mammals: 500 examples, with mean 0.79 std dev 0.40730823708832603\n"
     ]
    }
   ],
   "source": [
    "results = {}\n",
    "for filename in ['predictions-without-mobius.xls', 'predictions-with-mobius.xls']:\n",
    "    df = pd.read_excel(filename)\n",
    "    gt_label_col = 'Actual_number (0 index)'\n",
    "    pred_label_col = 'Predicted_number (0 index)'\n",
    "\n",
    "    correctness_col = 'correctness'\n",
    "    df[correctness_col] = df[gt_label_col] == df[pred_label_col]\n",
    "\n",
    "    # print(df.head())\n",
    "\n",
    "    # These classes in the mapping are from the column Actual labels category\n",
    "    gt_label_name_col = 'Actual labels category'\n",
    "    class2biomap =   { \n",
    "                        'aquatic mammals': True,\n",
    "                        'fish': True,\n",
    "                        'flowers': True, # \n",
    "                        'food containers': False, # \n",
    "                        'fruit and vegetables': True, # \n",
    "                        'household electrical device': False,\n",
    "                        'household furniture': False,                    \n",
    "                        'insects': True,\n",
    "                        'large carnivores': True,\n",
    "                        'large man-made outdoor things': False,\n",
    "                        'large natural outdoor scenes': False, # \n",
    "                        'large omnivores and herbivores': True,\n",
    "                        'non-insect invertebrates': True,\n",
    "                        'medium-sized mammals': True,\n",
    "                        'people': True,\n",
    "                        'reptiles': True,\n",
    "                        'small mammals': True,\n",
    "                        'trees': True, # \n",
    "                        'vehicles 1': False,\n",
    "                        'vehicles 2': False,\n",
    "                     }\n",
    "\n",
    "    correctness_dict = defaultdict(list)\n",
    "    class_correctness_dict = defaultdict(list)\n",
    "    for i, row in df.iterrows():\n",
    "        cl = row[gt_label_name_col]\n",
    "        corr = row[correctness_col]\n",
    "        if class2biomap[cl]:\n",
    "            # Biological\n",
    "            correctness_dict['bio'].append(corr)\n",
    "        else:\n",
    "            # Non-biological\n",
    "            correctness_dict['nonbio'].append(corr)\n",
    "        class_correctness_dict[cl].append(corr)\n",
    "\n",
    "    for b, corr_list in correctness_dict.items():\n",
    "        print(f'{b}: {len(corr_list)} examples, with mean {np.mean(corr_list)} std dev {np.std(corr_list)}')\n",
    "\n",
    "    for cls, corr_list in class_correctness_dict.items():\n",
    "        print(f'{cls}: {len(corr_list)} examples, with mean {np.mean(corr_list)} std dev {np.std(corr_list)}')\n",
    "\n",
    "    results[filename] = []\n",
    "    results[filename].append(correctness_dict)\n",
    "    results[filename].append(class_correctness_dict)"
   ]
  },
  {
   "cell_type": "code",
   "execution_count": 26,
   "metadata": {},
   "outputs": [],
   "source": [
    "vanilla= results['predictions-without-mobius.xls'][1]\n",
    "mobius = results['predictions-with-mobius.xls'][1]"
   ]
  },
  {
   "cell_type": "code",
   "execution_count": 27,
   "metadata": {},
   "outputs": [],
   "source": [
    "mobius_acc = {k: np.mean(corr_list) for k, corr_list in mobius.items()}\n",
    "vanilla_acc = {k: np.mean(corr_list) for k, corr_list in vanilla.items()}"
   ]
  },
  {
   "cell_type": "code",
   "execution_count": 28,
   "metadata": {},
   "outputs": [
    {
     "name": "stdout",
     "output_type": "stream",
     "text": [
      "category bio-increase? vanilla mobius\n",
      "large natural outdoor scenes False 0.852 0.872\n",
      "large omnivores and herbivores True 0.844 0.848\n",
      "large carnivores True 0.838 0.844\n",
      "large man-made outdoor things True 0.898 0.896\n",
      "medium-sized mammals True 0.826 0.852\n",
      "vehicles 2 True 0.918 0.902\n",
      "reptiles True 0.738 0.772\n",
      "vehicles 1 False 0.886 0.908\n",
      "people True 0.646 0.668\n",
      "fish True 0.818 0.824\n",
      "flowers False 0.86 0.856\n",
      "small mammals True 0.748 0.79\n",
      "insects True 0.85 0.858\n",
      "household electrical device False 0.864 0.87\n",
      "food containers False 0.796 0.806\n",
      "household furniture True 0.86 0.848\n",
      "non-insect invertebrates True 0.814 0.82\n",
      "aquatic mammals True 0.73 0.744\n",
      "fruit and vegetables True 0.862 0.896\n",
      "trees False 0.758 0.744\n",
      "0.7\n"
     ]
    }
   ],
   "source": [
    "print(\"category\", \"bio-increase?\", \"vanilla\", \"mobius\")\n",
    "class2biomap\n",
    "bio_mobius_acc = 0\n",
    "for k in sorted(mobius_acc, key=lambda x: x[1]):\n",
    "    bio_mobius_acc += int((mobius_acc[k]-vanilla_acc[k] > 0) == class2biomap[k])\n",
    "    print(k, (mobius_acc[k]-vanilla_acc[k] > 0) == class2biomap[k], vanilla_acc[k], mobius_acc[k])\n",
    "    \n",
    "print(bio_mobius_acc/20)"
   ]
  },
  {
   "cell_type": "code",
   "execution_count": null,
   "metadata": {},
   "outputs": [],
   "source": []
  }
 ],
 "metadata": {
  "kernelspec": {
   "display_name": "Python 3",
   "language": "python",
   "name": "python3"
  },
  "language_info": {
   "codemirror_mode": {
    "name": "ipython",
    "version": 3
   },
   "file_extension": ".py",
   "mimetype": "text/x-python",
   "name": "python",
   "nbconvert_exporter": "python",
   "pygments_lexer": "ipython3",
   "version": "3.7.4"
  }
 },
 "nbformat": 4,
 "nbformat_minor": 2
}
