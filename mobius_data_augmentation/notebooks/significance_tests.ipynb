{
 "cells": [
  {
   "cell_type": "code",
   "execution_count": 2,
   "metadata": {},
   "outputs": [],
   "source": [
    "from scipy.stats import ttest_ind\n",
    "from scipy import stats\n",
    "import numpy as np"
   ]
  },
  {
   "cell_type": "code",
   "execution_count": 14,
   "metadata": {},
   "outputs": [
    {
     "data": {
      "text/plain": [
       "array([  3.40188436,   9.49788049, -15.45698954,   2.10266166,\n",
       "         1.01829242])"
      ]
     },
     "execution_count": 14,
     "metadata": {},
     "output_type": "execute_result"
    }
   ],
   "source": [
    "a=[1,2,3,4,5]\n",
    "b=[1,2,3]\n",
    "stats.norm.rvs(loc=5,scale=10,size=5)"
   ]
  },
  {
   "cell_type": "code",
   "execution_count": 11,
   "metadata": {},
   "outputs": [
    {
     "data": {
      "text/plain": [
       "Ttest_indResult(statistic=0.9682458365518544, pvalue=0.3703147228597593)"
      ]
     },
     "execution_count": 11,
     "metadata": {},
     "output_type": "execute_result"
    }
   ],
   "source": [
    "ttest_ind(a,b)"
   ]
  },
  {
   "cell_type": "markdown",
   "metadata": {},
   "source": [
    "## Tiny"
   ]
  },
  {
   "cell_type": "code",
   "execution_count": 4,
   "metadata": {},
   "outputs": [],
   "source": [
    "regular = [0.5369,0.5239,0.5183]\n",
    "cutout = [0.5437,0.5432,0.5436]\n",
    "regular = [0.6799,0.6811,0.6864,0.687,0.6858]\n",
    "cutout = [0.6896,0.6867,0.6881,0.6794,0.688]"
   ]
  },
  {
   "cell_type": "markdown",
   "metadata": {},
   "source": [
    "#### Regular VS Mobius (mix3, admissable)"
   ]
  },
  {
   "cell_type": "code",
   "execution_count": 11,
   "metadata": {},
   "outputs": [
    {
     "name": "stdout",
     "output_type": "stream",
     "text": [
      "average of mobius is 0.6904\n",
      "std of mobius is 0.0041515057509294165\n",
      "mobius is better by 0.006360000000000032\n",
      "P value is 0.027677483565753298\n"
     ]
    }
   ],
   "source": [
    "mobius = [0.5708,0.5688,0.5595]\n",
    "mobius = [0.6865,0.6878,0.6965,0.6884,0.6928]\n",
    "print('average of mobius is',sum(mobius)/len(mobius) )\n",
    "print('std of mobius is',np.std(mobius,ddof=1))\n",
    "print(\"mobius is better by\", sum(mobius)/len(mobius)-sum(regular)/len(mobius) )\n",
    "print(\"P value is\", ttest_ind(regular, mobius)[1])"
   ]
  },
  {
   "cell_type": "markdown",
   "metadata": {},
   "source": [
    "#### Regular VS Cutout+Mobius (mix3, admissable)"
   ]
  },
  {
   "cell_type": "code",
   "execution_count": 12,
   "metadata": {},
   "outputs": [
    {
     "name": "stdout",
     "output_type": "stream",
     "text": [
      "average of mobius is 0.69512\n",
      "std of mobius is 0.0025459772190653753\n",
      "mobius is better by 0.011079999999999979\n",
      "P value is 0.0003384610116452085\n"
     ]
    }
   ],
   "source": [
    "mobius = [0.5662,0.5646,0.5602]\n",
    "mobius = [0.698,0.6941,0.6931,0.6927,0.6977]\n",
    "print('average of mobius is',sum(mobius)/len(mobius) )\n",
    "print('std of mobius is',np.std(mobius,ddof=1))\n",
    "print(\"mobius is better by\", sum(mobius)/len(mobius)-sum(regular)/len(mobius) )\n",
    "print(\"P value is\", ttest_ind(regular, mobius)[1])"
   ]
  },
  {
   "cell_type": "markdown",
   "metadata": {},
   "source": [
    "#### Cutout VS Mobius (mix3, admissable)"
   ]
  },
  {
   "cell_type": "code",
   "execution_count": 13,
   "metadata": {},
   "outputs": [
    {
     "name": "stdout",
     "output_type": "stream",
     "text": [
      "average of mobius is 0.6904\n",
      "std of mobius is 0.0041515057509294165\n",
      "mobius is better by 0.0040400000000000436\n",
      "P value is 0.15680369952492876\n"
     ]
    }
   ],
   "source": [
    "mobius = [0.5708,0.5688,0.5595]\n",
    "mobius = [0.6865,0.6878,0.6965,0.6884,0.6928]\n",
    "print('average of mobius is',sum(mobius)/len(mobius) )\n",
    "print('std of mobius is',np.std(mobius,ddof=1))\n",
    "print(\"mobius is better by\", sum(mobius)/len(mobius)-sum(cutout)/len(mobius) )\n",
    "print(\"P value is\", ttest_ind(cutout, mobius)[1])"
   ]
  },
  {
   "cell_type": "markdown",
   "metadata": {},
   "source": [
    "#### Cutout VS Cutout+Mobius (mix3, admissable)"
   ]
  },
  {
   "cell_type": "code",
   "execution_count": 5,
   "metadata": {},
   "outputs": [
    {
     "name": "stdout",
     "output_type": "stream",
     "text": [
      "average of mobius is 0.69512\n",
      "std of mobius is 0.0025459772190653753\n",
      "mobius is better by 0.00875999999999999\n",
      "P value is 0.0033741305752536706\n"
     ]
    }
   ],
   "source": [
    "mobius = [0.5662,0.5646,0.5602]\n",
    "mobius = [0.698,0.6941,0.6931,0.6927,0.6977]\n",
    "print('average of mobius is',sum(mobius)/len(mobius) )\n",
    "print('std of mobius is',np.std(mobius,ddof=1))\n",
    "print(\"mobius is better by\", sum(mobius)/len(mobius)-sum(cutout)/len(mobius) )\n",
    "print(\"P value is\", ttest_ind(cutout, mobius)[1])"
   ]
  },
  {
   "cell_type": "markdown",
   "metadata": {},
   "source": [
    "#### Mobius VS Cutout+Mobius (mix3, admissable)"
   ]
  },
  {
   "cell_type": "code",
   "execution_count": 6,
   "metadata": {},
   "outputs": [
    {
     "name": "stdout",
     "output_type": "stream",
     "text": [
      "mobius with cutout is better by 0.0047199999999999465\n",
      "P value is 0.06208976879156099\n"
     ]
    }
   ],
   "source": [
    "mobius_cutout = [0.698,0.6941,0.6931,0.6927,0.6977]\n",
    "mobius = [0.6865,0.6878,0.6965,0.6884,0.6928]\n",
    "print(\"mobius with cutout is better by\", sum(mobius_cutout)/len(mobius_cutout)-sum(mobius)/len(mobius) )\n",
    "print(\"P value is\", ttest_ind(mobius_cutout, mobius)[1])"
   ]
  },
  {
   "cell_type": "code",
   "execution_count": null,
   "metadata": {},
   "outputs": [],
   "source": []
  },
  {
   "cell_type": "markdown",
   "metadata": {},
   "source": [
    "#### Regular VS Mobius (mix3, Restricted Random, std =0.01)"
   ]
  },
  {
   "cell_type": "code",
   "execution_count": 5,
   "metadata": {},
   "outputs": [
    {
     "name": "stdout",
     "output_type": "stream",
     "text": [
      "mobius is better by 0.02406666666666668\n",
      "P value is 0.019856010464076163\n"
     ]
    }
   ],
   "source": [
    "mobius = [0.551,0.5558,0.5445]\n",
    "print(\"mobius is better by\", sum(mobius)/3-sum(regular)/3 )\n",
    "print(\"P value is\", ttest_ind(regular, mobius)[1])"
   ]
  },
  {
   "cell_type": "markdown",
   "metadata": {},
   "source": [
    "#### Regular VS cutout + Mobius (mix3, Restricted Random, std =0.01)"
   ]
  },
  {
   "cell_type": "code",
   "execution_count": 7,
   "metadata": {},
   "outputs": [
    {
     "name": "stdout",
     "output_type": "stream",
     "text": [
      "mobius is better by 0.028833333333333377\n",
      "P value is 0.01367869578173505\n"
     ]
    }
   ],
   "source": [
    "mobius = [0.5631,0.5531,0.5494]\n",
    "print(\"mobius is better by\", sum(mobius)/3-sum(regular)/3 )\n",
    "print(\"P value is\", ttest_ind(regular, mobius)[1])"
   ]
  },
  {
   "cell_type": "markdown",
   "metadata": {},
   "source": [
    "#### cutout VS Mobius (mix3, Restricted Random, std =0.01)"
   ]
  },
  {
   "cell_type": "code",
   "execution_count": 8,
   "metadata": {},
   "outputs": [
    {
     "name": "stdout",
     "output_type": "stream",
     "text": [
      "mobius is better by 0.006933333333333347\n",
      "P value is 0.10189225843364733\n"
     ]
    }
   ],
   "source": [
    "mobius = [0.551,0.5558,0.5445]\n",
    "print(\"mobius is better by\", sum(mobius)/3-sum(cutout)/3 )\n",
    "print(\"P value is\", ttest_ind(cutout, mobius)[1])"
   ]
  },
  {
   "cell_type": "markdown",
   "metadata": {},
   "source": [
    "#### cutout VS cutout + Mobius (mix3, Restricted Random, std =0.01)"
   ]
  },
  {
   "cell_type": "code",
   "execution_count": 9,
   "metadata": {},
   "outputs": [
    {
     "name": "stdout",
     "output_type": "stream",
     "text": [
      "mobius is better by 0.011700000000000044\n",
      "P value is 0.04605281465564472\n"
     ]
    }
   ],
   "source": [
    "mobius = [0.5631,0.5531,0.5494]\n",
    "print(\"mobius is better by\", sum(mobius)/3-sum(cutout)/3 )\n",
    "print(\"P value is\", ttest_ind(cutout, mobius)[1])"
   ]
  },
  {
   "cell_type": "markdown",
   "metadata": {},
   "source": [
    "## CIFAR10"
   ]
  },
  {
   "cell_type": "code",
   "execution_count": 27,
   "metadata": {},
   "outputs": [],
   "source": [
    "regular = [0.9649,0.9646,0.9652,0.9642,0.9644]\n",
    "cutout = [0.9711, 0.9718, 0.971, 0.9713, 0.9712]"
   ]
  },
  {
   "cell_type": "markdown",
   "metadata": {},
   "source": [
    "#### Regular VS Mobius (mix3, madmissable)"
   ]
  },
  {
   "cell_type": "code",
   "execution_count": 28,
   "metadata": {},
   "outputs": [
    {
     "name": "stdout",
     "output_type": "stream",
     "text": [
      "average of mobius is 0.9667199999999999\n",
      "std of mobius is 0.0013367871932360778\n",
      "mobius is better by 0.0020599999999999508\n",
      "P value is 0.010812373983473417\n"
     ]
    }
   ],
   "source": [
    "mobius = [0.966,0.969,0.9657,0.9661,0.9668]\n",
    "print('average of mobius is',sum(mobius)/5 )\n",
    "print('std of mobius is',np.std(mobius,ddof=1))\n",
    "print(\"mobius is better by\", sum(mobius)/5-sum(regular)/5 )\n",
    "print(\"P value is\", ttest_ind(regular, mobius)[1])"
   ]
  },
  {
   "cell_type": "markdown",
   "metadata": {},
   "source": [
    "#### Regular VS Cutout + Mobius (mix3, madmissable)"
   ]
  },
  {
   "cell_type": "code",
   "execution_count": 29,
   "metadata": {},
   "outputs": [
    {
     "name": "stdout",
     "output_type": "stream",
     "text": [
      "average of mobius is 0.97094\n",
      "std of mobius is 0.0015852444606432145\n",
      "mobius is better by 0.006280000000000063\n",
      "P value is 2.6023391016100637e-05\n"
     ]
    }
   ],
   "source": [
    "mobius = [0.9717,0.9712,0.9729,0.9702,0.9687]\n",
    "print('average of mobius is',sum(mobius)/5 )\n",
    "print('std of mobius is',np.std(mobius,ddof=1))\n",
    "print(\"mobius is better by\", sum(mobius)/5-sum(regular)/5 )\n",
    "print(\"P value is\", ttest_ind(regular, mobius)[1])"
   ]
  },
  {
   "cell_type": "markdown",
   "metadata": {},
   "source": [
    "#### Cutout VS Mobius (mix3, madmissable)"
   ]
  },
  {
   "cell_type": "code",
   "execution_count": 6,
   "metadata": {},
   "outputs": [
    {
     "name": "stdout",
     "output_type": "stream",
     "text": [
      "mobius is better by -0.0045600000000000085\n",
      "P value is 7.413867286308963e-05\n"
     ]
    }
   ],
   "source": [
    "mobius = [0.966,0.969,0.9657,0.9661,0.9668]\n",
    "print(\"mobius is better by\", sum(mobius)/5-sum(cutout)/5 )\n",
    "print(\"P value is\", ttest_ind(cutout, mobius)[1])"
   ]
  },
  {
   "cell_type": "markdown",
   "metadata": {},
   "source": [
    "#### Cutout VS Cutout + Mobius (mix3, madmissable)"
   ]
  },
  {
   "cell_type": "code",
   "execution_count": 7,
   "metadata": {},
   "outputs": [
    {
     "name": "stdout",
     "output_type": "stream",
     "text": [
      "mobius is better by -0.00033999999999989594\n",
      "P value is 0.6504964235592512\n"
     ]
    }
   ],
   "source": [
    "mobius = [0.9717,0.9712,0.9729,0.9702,0.9687]\n",
    "print(\"mobius is better by\", sum(mobius)/5-sum(cutout)/5 )\n",
    "print(\"P value is\", ttest_ind(cutout, mobius)[1])"
   ]
  },
  {
   "cell_type": "markdown",
   "metadata": {},
   "source": [
    "#### Regular VS Mobius (mix3, 8 fixed)"
   ]
  },
  {
   "cell_type": "code",
   "execution_count": 3,
   "metadata": {},
   "outputs": [
    {
     "name": "stdout",
     "output_type": "stream",
     "text": [
      "mobius is better by 0.0025199999999999667\n",
      "P value is 6.52303537685496e-05\n"
     ]
    }
   ],
   "source": [
    "mobius = [0.9668,0.9675,0.9681,0.9665,0.967]\n",
    "print(\"mobius is better by\", sum(mobius)/5-sum(regular)/5 )\n",
    "print(\"P value is\", ttest_ind(regular, mobius)[1])"
   ]
  },
  {
   "cell_type": "markdown",
   "metadata": {},
   "source": [
    "#### Regular VS Cutout + Mobius (mix3, 8 fixed)"
   ]
  },
  {
   "cell_type": "code",
   "execution_count": 4,
   "metadata": {},
   "outputs": [
    {
     "name": "stdout",
     "output_type": "stream",
     "text": [
      "mobius is better by 0.007220000000000004\n",
      "P value is 3.680876561325633e-08\n"
     ]
    }
   ],
   "source": [
    "mobius = [0.9717,0.973,0.9718,0.9711,0.9718]\n",
    "print(\"mobius is better by\", sum(mobius)/5-sum(regular)/5 )\n",
    "print(\"P value is\", ttest_ind(regular, mobius)[1])"
   ]
  },
  {
   "cell_type": "markdown",
   "metadata": {},
   "source": [
    "#### Regular VS Mobius (mix3, Restricted Random std = 0.01 )"
   ]
  },
  {
   "cell_type": "code",
   "execution_count": 5,
   "metadata": {},
   "outputs": [
    {
     "name": "stdout",
     "output_type": "stream",
     "text": [
      "mobius is better by 0.002100000000000102\n",
      "P value is 0.0022401096695388637\n"
     ]
    }
   ],
   "source": [
    "mobius = [0.9682,0.9657,0.9671,0.9668,0.966]\n",
    "print(\"mobius is better by\", sum(mobius)/5-sum(regular)/5 )\n",
    "print(\"P value is\", ttest_ind(regular, mobius)[1])"
   ]
  },
  {
   "cell_type": "markdown",
   "metadata": {},
   "source": [
    "#### Regular VS Cutout + Mobius (mix3, Restricted Random std = 0.01)"
   ]
  },
  {
   "cell_type": "code",
   "execution_count": 6,
   "metadata": {},
   "outputs": [
    {
     "name": "stdout",
     "output_type": "stream",
     "text": [
      "mobius is better by 0.006840000000000068\n",
      "P value is 7.106442278277743e-07\n"
     ]
    }
   ],
   "source": [
    "mobius = [0.9714,0.972,0.9713,0.9728,0.97]\n",
    "print(\"mobius is better by\", sum(mobius)/5-sum(regular)/5 )\n",
    "print(\"P value is\", ttest_ind(regular, mobius)[1])"
   ]
  },
  {
   "cell_type": "markdown",
   "metadata": {},
   "source": [
    "#### Regular VS Mobius (mix3, Restricted Random std = 0.005 )"
   ]
  },
  {
   "cell_type": "code",
   "execution_count": 7,
   "metadata": {},
   "outputs": [
    {
     "name": "stdout",
     "output_type": "stream",
     "text": [
      "mobius is better by 0.0028400000000000647\n",
      "P value is 0.0014467538396489208\n"
     ]
    }
   ],
   "source": [
    "mobius = [0.9666,0.967,0.9664,0.9695,0.968]\n",
    "print(\"mobius is better by\", sum(mobius)/5-sum(regular)/5 )\n",
    "print(\"P value is\", ttest_ind(regular, mobius)[1])"
   ]
  },
  {
   "cell_type": "markdown",
   "metadata": {},
   "source": [
    "#### Regular VS Cutout + Mobius (mix3, Restricted Random std = 0.005)"
   ]
  },
  {
   "cell_type": "code",
   "execution_count": 8,
   "metadata": {},
   "outputs": [
    {
     "name": "stdout",
     "output_type": "stream",
     "text": [
      "mobius is better by 0.007200000000000095\n",
      "P value is 7.267835338990602e-08\n"
     ]
    }
   ],
   "source": [
    "mobius = [0.9716,0.9717,0.9709,0.9721,0.973]\n",
    "print(\"mobius is better by\", sum(mobius)/5-sum(regular)/5 )\n",
    "print(\"P value is\", ttest_ind(regular, mobius)[1])"
   ]
  },
  {
   "cell_type": "markdown",
   "metadata": {},
   "source": [
    "#### Cutout VS Mobius (mix3, 8 fixed)"
   ]
  },
  {
   "cell_type": "code",
   "execution_count": 9,
   "metadata": {},
   "outputs": [
    {
     "name": "stdout",
     "output_type": "stream",
     "text": [
      "mobius is better by -0.0040999999999999925\n",
      "P value is 1.1326870324132887e-06\n"
     ]
    }
   ],
   "source": [
    "mobius = [0.9668,0.9675,0.9681,0.9665,0.967]\n",
    "print(\"mobius is better by\", sum(mobius)/5-sum(cutout)/5 )\n",
    "print(\"P value is\", ttest_ind(cutout, mobius)[1])"
   ]
  },
  {
   "cell_type": "markdown",
   "metadata": {},
   "source": [
    "#### Cutout VS Cutout + Mobius (mix3, 8 fixed)"
   ]
  },
  {
   "cell_type": "code",
   "execution_count": 32,
   "metadata": {},
   "outputs": [
    {
     "name": "stdout",
     "output_type": "stream",
     "text": [
      "mobius is better by 0.0006000000000000449\n",
      "P value is 0.11453867300976012\n"
     ]
    }
   ],
   "source": [
    "mobius = [0.9717,0.973,0.9718,0.9711,0.9718]\n",
    "print(\"mobius is better by\", sum(mobius)/5-sum(cutout)/5 )\n",
    "print(\"P value is\", ttest_ind(cutout, mobius)[1])"
   ]
  },
  {
   "cell_type": "markdown",
   "metadata": {},
   "source": [
    "#### Cutout VS Mobius (mix3, Restricted Random, std =0.01)"
   ]
  },
  {
   "cell_type": "code",
   "execution_count": 33,
   "metadata": {},
   "outputs": [
    {
     "name": "stdout",
     "output_type": "stream",
     "text": [
      "mobius is better by -0.0045199999999998575\n",
      "P value is 1.0089469657212954e-05\n"
     ]
    }
   ],
   "source": [
    "mobius = [0.9682,0.9657,0.9671,0.9668,0.966]\n",
    "print(\"mobius is better by\", sum(mobius)/5-sum(cutout)/5 )\n",
    "print(\"P value is\", ttest_ind(cutout, mobius)[1])"
   ]
  },
  {
   "cell_type": "markdown",
   "metadata": {},
   "source": [
    "#### Cutout VS Cutout + Mobius (mix3, Restricted Random, std =0.01)"
   ]
  },
  {
   "cell_type": "code",
   "execution_count": 34,
   "metadata": {},
   "outputs": [
    {
     "name": "stdout",
     "output_type": "stream",
     "text": [
      "mobius is better by 0.000220000000000109\n",
      "P value is 0.6595891924169599\n"
     ]
    }
   ],
   "source": [
    "mobius = [0.9714,0.972,0.9713,0.9728,0.97]\n",
    "print(\"mobius is better by\", sum(mobius)/5-sum(cutout)/5 )\n",
    "print(\"P value is\", ttest_ind(cutout, mobius)[1])"
   ]
  },
  {
   "cell_type": "markdown",
   "metadata": {},
   "source": [
    "#### Cutout VS Mobius (mix3, Restricted Random, std =0.005)"
   ]
  },
  {
   "cell_type": "code",
   "execution_count": 35,
   "metadata": {},
   "outputs": [
    {
     "name": "stdout",
     "output_type": "stream",
     "text": [
      "mobius is better by -0.0037799999999998946\n",
      "P value is 0.00020218274278874823\n"
     ]
    }
   ],
   "source": [
    "mobius = [0.9666,0.967,0.9664,0.9695,0.968]\n",
    "print(\"mobius is better by\", sum(mobius)/5-sum(cutout)/5 )\n",
    "print(\"P value is\", ttest_ind(cutout, mobius)[1])"
   ]
  },
  {
   "cell_type": "markdown",
   "metadata": {},
   "source": [
    "#### Cutout VS Cutout + Mobius (mix3, Restricted Random, std =0.005)"
   ]
  },
  {
   "cell_type": "code",
   "execution_count": 36,
   "metadata": {},
   "outputs": [
    {
     "name": "stdout",
     "output_type": "stream",
     "text": [
      "mobius is better by 0.000580000000000136\n",
      "P value is 0.15707468263087668\n"
     ]
    }
   ],
   "source": [
    "mobius = [0.9716,0.9717,0.9709,0.9721,0.973]\n",
    "print(\"mobius is better by\", sum(mobius)/5-sum(cutout)/5 )\n",
    "print(\"P value is\", ttest_ind(cutout, mobius)[1])"
   ]
  },
  {
   "cell_type": "markdown",
   "metadata": {},
   "source": [
    "## CIFAR100"
   ]
  },
  {
   "cell_type": "code",
   "execution_count": 32,
   "metadata": {},
   "outputs": [],
   "source": [
    "regular = [0.8165,0.8214,0.8207,0.818,0.8191]\n",
    "cutout = [0.8204,0.8236,0.8245,0.8256,0.8233]"
   ]
  },
  {
   "cell_type": "markdown",
   "metadata": {},
   "source": [
    "#### mobius VS cutout+ Mobius (mix3, admissable)"
   ]
  },
  {
   "cell_type": "code",
   "execution_count": 8,
   "metadata": {},
   "outputs": [
    {
     "name": "stdout",
     "output_type": "stream",
     "text": [
      "mobius_cutout is better by 0.0019799999999999818\n",
      "P value is 0.3310920880145074\n"
     ]
    }
   ],
   "source": [
    "mobius = [0.8266,0.8266,0.8286,0.8192,0.8228]\n",
    "mobius_cutout = [0.8245,0.8261,0.8259,0.8272,0.83]\n",
    "print(\"mobius_cutout is better by\", sum(mobius_cutout)/5-sum(mobius)/5 )\n",
    "print(\"P value is\", ttest_ind(mobius_cutout, mobius)[1])"
   ]
  },
  {
   "cell_type": "markdown",
   "metadata": {},
   "source": [
    "#### Regular VS Mobius (mix3, admissable)"
   ]
  },
  {
   "cell_type": "code",
   "execution_count": 33,
   "metadata": {},
   "outputs": [
    {
     "name": "stdout",
     "output_type": "stream",
     "text": [
      "CIFAR100\n",
      "average of mobius is 0.8247599999999998\n",
      "std of mobius is 0.003750733261643638\n",
      "mobius is better by 0.005619999999999847\n",
      "P value is 0.018138625400847767\n"
     ]
    }
   ],
   "source": [
    "mobius = [0.8266,0.8266,0.8286,0.8192,0.8228]\n",
    "print('CIFAR100')\n",
    "print('average of mobius is',sum(mobius)/5 )\n",
    "print('std of mobius is',np.std(mobius,ddof=1))\n",
    "print(\"mobius is better by\", sum(mobius)/5-sum(regular)/5 )\n",
    "print(\"P value is\", ttest_ind(regular, mobius)[1])"
   ]
  },
  {
   "cell_type": "markdown",
   "metadata": {},
   "source": [
    "#### Regular VS Cutout + Mobius (mix3, admissable)"
   ]
  },
  {
   "cell_type": "code",
   "execution_count": 34,
   "metadata": {},
   "outputs": [
    {
     "name": "stdout",
     "output_type": "stream",
     "text": [
      "CIFAR100\n",
      "average of mobius is 0.8267399999999998\n",
      "std of mobius is 0.0020598543637839945\n",
      "mobius is better by 0.007599999999999829\n",
      "P value is 0.0003473704106090325\n"
     ]
    }
   ],
   "source": [
    "mobius = [0.8245,0.8261,0.8259,0.8272,0.83]\n",
    "print('CIFAR100')\n",
    "print('average of mobius is',sum(mobius)/5 )\n",
    "print('std of mobius is',np.std(mobius,ddof=1))\n",
    "print(\"mobius is better by\", sum(mobius)/5-sum(regular)/5 )\n",
    "print(\"P value is\", ttest_ind(regular, mobius)[1])"
   ]
  },
  {
   "cell_type": "markdown",
   "metadata": {},
   "source": [
    "#### Regular VS Mobius (mix3, 8 fixed)"
   ]
  },
  {
   "cell_type": "code",
   "execution_count": 35,
   "metadata": {},
   "outputs": [
    {
     "name": "stdout",
     "output_type": "stream",
     "text": [
      "CIFAR100\n",
      "average of mobius is 0.8285\n",
      "std of mobius is 0.002188606862823935\n",
      "mobius is better by 0.009360000000000035\n",
      "P value is 0.00010420194408485366\n"
     ]
    }
   ],
   "source": [
    "mobius = [0.8282,0.8257,0.8276,0.8316,0.8294 ]\n",
    "print('CIFAR100')\n",
    "print('average of mobius is',sum(mobius)/5 )\n",
    "print('std of mobius is',np.std(mobius,ddof=1))\n",
    "print(\"mobius is better by\", sum(mobius)/5-sum(regular)/5 )\n",
    "print(\"P value is\", ttest_ind(regular, mobius)[1])"
   ]
  },
  {
   "cell_type": "markdown",
   "metadata": {},
   "source": [
    "#### Regular VS Cutout + Mobius (mix3, 8 fixed)"
   ]
  },
  {
   "cell_type": "code",
   "execution_count": 5,
   "metadata": {},
   "outputs": [
    {
     "name": "stdout",
     "output_type": "stream",
     "text": [
      "CIFAR100\n",
      "mobius is better by 0.010019999999999918\n",
      "P value is 1.6559647837678883e-05\n"
     ]
    }
   ],
   "source": [
    "mobius = [0.8301,0.8297,0.8279, 0.8307, 0.8274]\n",
    "print('CIFAR100')\n",
    "print(\"mobius is better by\", sum(mobius)/5-sum(regular)/5 )\n",
    "print(\"P value is\", ttest_ind(regular, mobius)[1])"
   ]
  },
  {
   "cell_type": "markdown",
   "metadata": {},
   "source": [
    "#### Regular VS Mobius (mix3, Restricted Random std = 0.01 )"
   ]
  },
  {
   "cell_type": "code",
   "execution_count": 6,
   "metadata": {},
   "outputs": [
    {
     "name": "stdout",
     "output_type": "stream",
     "text": [
      "CIFAR100\n",
      "mobius is better by 0.00552000000000008\n",
      "P value is 0.0021044483472269365\n"
     ]
    }
   ],
   "source": [
    "mobius = [0.8229,0.824,0.8264,0.827,0.823]\n",
    "print('CIFAR100')\n",
    "print(\"mobius is better by\", sum(mobius)/5-sum(regular)/5 )\n",
    "print(\"P value is\", ttest_ind(regular, mobius)[1])"
   ]
  },
  {
   "cell_type": "code",
   "execution_count": null,
   "metadata": {},
   "outputs": [],
   "source": []
  },
  {
   "cell_type": "code",
   "execution_count": null,
   "metadata": {},
   "outputs": [],
   "source": []
  },
  {
   "cell_type": "markdown",
   "metadata": {},
   "source": [
    "#### Regular VS Cutout + Mobius (mix3, Restricted Random std = 0.01 )"
   ]
  },
  {
   "cell_type": "code",
   "execution_count": 7,
   "metadata": {},
   "outputs": [
    {
     "name": "stdout",
     "output_type": "stream",
     "text": [
      "CIFAR100\n",
      "mobius is better by 0.011780000000000124\n",
      "P value is 5.172905836690635e-05\n"
     ]
    }
   ],
   "source": [
    "mobius = [0.8298,0.835,0.83,0.8278,0.832]\n",
    "print('CIFAR100')\n",
    "print(\"mobius is better by\", sum(mobius)/5-sum(regular)/5 )\n",
    "print(\"P value is\", ttest_ind(regular, mobius)[1])"
   ]
  },
  {
   "cell_type": "markdown",
   "metadata": {},
   "source": [
    "#### Regular VS Mobius (mix3, Restricted Random std = 0.005)"
   ]
  },
  {
   "cell_type": "code",
   "execution_count": 8,
   "metadata": {},
   "outputs": [
    {
     "name": "stdout",
     "output_type": "stream",
     "text": [
      "CIFAR100\n",
      "mobius is better by 0.006659999999999888\n",
      "P value is 0.0003435323430862278\n"
     ]
    }
   ],
   "source": [
    "mobius = [0.8255,0.8247,0.8283,0.8245,0.826]\n",
    "print('CIFAR100')\n",
    "print(\"mobius is better by\", sum(mobius)/5-sum(regular)/5 )\n",
    "print(\"P value is\", ttest_ind(regular, mobius)[1])"
   ]
  },
  {
   "cell_type": "markdown",
   "metadata": {},
   "source": [
    "#### Regular VS Cutout + Mobius (mix3, Restricted Random std =0.005)"
   ]
  },
  {
   "cell_type": "code",
   "execution_count": 9,
   "metadata": {},
   "outputs": [
    {
     "name": "stdout",
     "output_type": "stream",
     "text": [
      "CIFAR100\n",
      "mobius is better by 0.011320000000000108\n",
      "P value is 0.00010907365127852174\n"
     ]
    }
   ],
   "source": [
    "mobius = [0.8303,0.8345,0.8283,0.8322,0.827]\n",
    "print('CIFAR100')\n",
    "print(\"mobius is better by\", sum(mobius)/5-sum(regular)/5 )\n",
    "print(\"P value is\", ttest_ind(regular, mobius)[1])"
   ]
  },
  {
   "cell_type": "markdown",
   "metadata": {},
   "source": [
    "#### Cutout VS Mobius (mix3, madmissable)"
   ]
  },
  {
   "cell_type": "code",
   "execution_count": 3,
   "metadata": {},
   "outputs": [
    {
     "name": "stdout",
     "output_type": "stream",
     "text": [
      "CIFAR100\n",
      "mobius is better by 0.0012799999999998368\n",
      "P value is 0.5170587826868336\n"
     ]
    }
   ],
   "source": [
    "mobius = [0.8266,0.8266,0.8286,0.8192,0.8228]\n",
    "print('CIFAR100')\n",
    "print(\"mobius is better by\", sum(mobius)/5-sum(cutout)/5 )\n",
    "print(\"P value is\", ttest_ind(cutout, mobius)[1])"
   ]
  },
  {
   "cell_type": "markdown",
   "metadata": {},
   "source": [
    "#### Cutout VS Cutout+ Mobius (mix3, madmissable)"
   ]
  },
  {
   "cell_type": "code",
   "execution_count": 4,
   "metadata": {},
   "outputs": [
    {
     "name": "stdout",
     "output_type": "stream",
     "text": [
      "CIFAR100\n",
      "mobius is better by 0.0032599999999998186\n",
      "P value is 0.03283786813648218\n"
     ]
    }
   ],
   "source": [
    "mobius = [0.8245,0.8261,0.8259,0.8272,0.83]\n",
    "print('CIFAR100')\n",
    "print(\"mobius is better by\", sum(mobius)/5-sum(cutout)/5 )\n",
    "print(\"P value is\", ttest_ind(cutout, mobius)[1])"
   ]
  },
  {
   "cell_type": "markdown",
   "metadata": {},
   "source": [
    "#### Cutout VS Mobius (mix3, 8 fixed)"
   ]
  },
  {
   "cell_type": "code",
   "execution_count": 10,
   "metadata": {},
   "outputs": [
    {
     "name": "stdout",
     "output_type": "stream",
     "text": [
      "CIFAR100\n",
      "mobius is better by 0.0050200000000000244\n",
      "P value is 0.004966042689589729\n"
     ]
    }
   ],
   "source": [
    "mobius = [0.8282,0.8257,0.8276,0.8316,0.8294 ]\n",
    "print('CIFAR100')\n",
    "print(\"mobius is better by\", sum(mobius)/5-sum(cutout)/5 )\n",
    "print(\"P value is\", ttest_ind(cutout, mobius)[1])"
   ]
  },
  {
   "cell_type": "markdown",
   "metadata": {},
   "source": [
    "#### Cutout VS Cutout + Mobius (mix3, 8 fixed)"
   ]
  },
  {
   "cell_type": "code",
   "execution_count": 11,
   "metadata": {},
   "outputs": [
    {
     "name": "stdout",
     "output_type": "stream",
     "text": [
      "CIFAR100\n",
      "mobius is better by 0.005679999999999907\n",
      "P value is 0.0007622647045440242\n"
     ]
    }
   ],
   "source": [
    "mobius = [0.8301,0.8297,0.8279, 0.8307, 0.8274]\n",
    "print('CIFAR100')\n",
    "print(\"mobius is better by\", sum(mobius)/5-sum(cutout)/5 )\n",
    "print(\"P value is\", ttest_ind(cutout, mobius)[1])"
   ]
  },
  {
   "cell_type": "markdown",
   "metadata": {},
   "source": [
    "#### Cutout VS Mobius (mix3, Restricted Random, std =0.01)"
   ]
  },
  {
   "cell_type": "code",
   "execution_count": 12,
   "metadata": {},
   "outputs": [
    {
     "name": "stdout",
     "output_type": "stream",
     "text": [
      "CIFAR100\n",
      "mobius is better by 0.0011800000000000699\n",
      "P value is 0.36246545825372495\n"
     ]
    }
   ],
   "source": [
    "mobius = [0.8229,0.824,0.8264,0.827,0.823]\n",
    "print('CIFAR100')\n",
    "print(\"mobius is better by\", sum(mobius)/5-sum(cutout)/5 )\n",
    "print(\"P value is\", ttest_ind(cutout, mobius)[1])"
   ]
  },
  {
   "cell_type": "markdown",
   "metadata": {},
   "source": [
    "#### Cutout VS Cutout + Mobius (mix3, Restricted Random, std =0.01)"
   ]
  },
  {
   "cell_type": "code",
   "execution_count": 13,
   "metadata": {},
   "outputs": [
    {
     "name": "stdout",
     "output_type": "stream",
     "text": [
      "CIFAR100\n",
      "mobius is better by 0.007440000000000113\n",
      "P value is 0.0010852858816906353\n"
     ]
    }
   ],
   "source": [
    "mobius = [0.8298,0.835,0.83,0.8278,0.832]\n",
    "print('CIFAR100')\n",
    "print(\"mobius is better by\", sum(mobius)/5-sum(cutout)/5 )\n",
    "print(\"P value is\", ttest_ind(cutout, mobius)[1])"
   ]
  },
  {
   "cell_type": "markdown",
   "metadata": {},
   "source": [
    "#### Cutout VS Mobius (mix3, Restricted Random, std =0.005)"
   ]
  },
  {
   "cell_type": "code",
   "execution_count": 14,
   "metadata": {},
   "outputs": [
    {
     "name": "stdout",
     "output_type": "stream",
     "text": [
      "CIFAR100\n",
      "mobius is better by 0.0023199999999998777\n",
      "P value is 0.06865167668485098\n"
     ]
    }
   ],
   "source": [
    "mobius = [0.8255,0.8247,0.8283,0.8245,0.826]\n",
    "print('CIFAR100')\n",
    "print(\"mobius is better by\", sum(mobius)/5-sum(cutout)/5 )\n",
    "print(\"P value is\", ttest_ind(cutout, mobius)[1])"
   ]
  },
  {
   "cell_type": "markdown",
   "metadata": {},
   "source": [
    "#### Cutout VS Cutout + Mobius (mix3, Restricted Random, std =0.005)"
   ]
  },
  {
   "cell_type": "code",
   "execution_count": 15,
   "metadata": {},
   "outputs": [
    {
     "name": "stdout",
     "output_type": "stream",
     "text": [
      "CIFAR100\n",
      "mobius is better by 0.006980000000000097\n",
      "P value is 0.002388093061955263\n"
     ]
    }
   ],
   "source": [
    "mobius = [0.8303,0.8345,0.8283,0.8322,0.827]\n",
    "print('CIFAR100')\n",
    "print(\"mobius is better by\", sum(mobius)/5-sum(cutout)/5 )\n",
    "print(\"P value is\", ttest_ind(cutout, mobius)[1])"
   ]
  },
  {
   "cell_type": "markdown",
   "metadata": {},
   "source": [
    "## CIFAR10 Reduced"
   ]
  },
  {
   "cell_type": "code",
   "execution_count": 16,
   "metadata": {},
   "outputs": [],
   "source": [
    "regular = [0.8401,0.8388,0.8425,0.8384, 0.8392]\n",
    "cutout = [0.8498, 0.8535, 0.8498,0.8521, 0.8546]"
   ]
  },
  {
   "cell_type": "markdown",
   "metadata": {},
   "source": [
    "#### Regular VS Mobius (mix3, 8 fixed)"
   ]
  },
  {
   "cell_type": "code",
   "execution_count": 17,
   "metadata": {},
   "outputs": [
    {
     "name": "stdout",
     "output_type": "stream",
     "text": [
      "CIFAR10 Reduced\n",
      "mobius is better by 0.02089999999999992\n",
      "P value is 2.1468387904275926e-07\n"
     ]
    }
   ],
   "source": [
    "mobius = [0.8603,0.8637,0.8614,0.861, 0.8571 ]\n",
    "print('CIFAR10 Reduced')\n",
    "print(\"mobius is better by\", sum(mobius)/5-sum(regular)/5 )\n",
    "print(\"P value is\", ttest_ind(regular, mobius)[1])"
   ]
  },
  {
   "cell_type": "markdown",
   "metadata": {},
   "source": [
    "#### Regular VS Cutout + Mobius (mix3, 8 fixed)"
   ]
  },
  {
   "cell_type": "code",
   "execution_count": 18,
   "metadata": {},
   "outputs": [
    {
     "name": "stdout",
     "output_type": "stream",
     "text": [
      "CIFAR10 Reduced\n",
      "mobius is better by 0.017220000000000013\n",
      "P value is 6.629767913237318e-07\n"
     ]
    }
   ],
   "source": [
    "mobius = [0.8584,0.8595,0.8563,0.8537,0.8572]\n",
    "print('CIFAR10 Reduced')\n",
    "print(\"mobius is better by\", sum(mobius)/5-sum(regular)/5 )\n",
    "print(\"P value is\", ttest_ind(regular, mobius)[1])"
   ]
  },
  {
   "cell_type": "markdown",
   "metadata": {},
   "source": [
    "#### Regular VS Mobius (mix3, Restricted Random std = 0.01 )"
   ]
  },
  {
   "cell_type": "code",
   "execution_count": 19,
   "metadata": {},
   "outputs": [
    {
     "name": "stdout",
     "output_type": "stream",
     "text": [
      "CIFAR10 Reduced\n",
      "mobius is better by 0.009800000000000031\n",
      "P value is 4.8152914206726525e-05\n"
     ]
    }
   ],
   "source": [
    "mobius = [0.848,0.8496,0.8507,0.8527,0.847]\n",
    "print('CIFAR10 Reduced')\n",
    "print(\"mobius is better by\", sum(mobius)/5-sum(regular)/5 )\n",
    "print(\"P value is\", ttest_ind(regular, mobius)[1])"
   ]
  },
  {
   "cell_type": "markdown",
   "metadata": {},
   "source": [
    "#### Regular VS Cutout + Mobius (mix3, Restricted Random std = 0.01)"
   ]
  },
  {
   "cell_type": "code",
   "execution_count": 20,
   "metadata": {},
   "outputs": [
    {
     "name": "stdout",
     "output_type": "stream",
     "text": [
      "CIFAR10 Reduced\n",
      "mobius is better by 0.015340000000000131\n",
      "P value is 7.998557644972732e-05\n"
     ]
    }
   ],
   "source": [
    "mobius = [0.8599,0.8574,0.8574,0.85,0.851]\n",
    "print('CIFAR10 Reduced')\n",
    "print(\"mobius is better by\", sum(mobius)/5-sum(regular)/5 )\n",
    "print(\"P value is\", ttest_ind(regular, mobius)[1])"
   ]
  },
  {
   "cell_type": "markdown",
   "metadata": {},
   "source": [
    "#### Regular VS Mobius (mix3, Restricted Random std = 0.005 )"
   ]
  },
  {
   "cell_type": "code",
   "execution_count": 21,
   "metadata": {},
   "outputs": [
    {
     "name": "stdout",
     "output_type": "stream",
     "text": [
      "CIFAR10 Reduced\n",
      "mobius is better by 0.015419999999999878\n",
      "P value is 6.921595253670635e-08\n"
     ]
    }
   ],
   "source": [
    "mobius = [0.8565,0.8556,0.8549,0.8543,0.8548]\n",
    "print('CIFAR10 Reduced')\n",
    "print(\"mobius is better by\", sum(mobius)/5-sum(regular)/5 )\n",
    "print(\"P value is\", ttest_ind(regular, mobius)[1])"
   ]
  },
  {
   "cell_type": "markdown",
   "metadata": {},
   "source": [
    "#### Regular VS Cutout + Mobius (mix3, Restricted Random std = 0.005)"
   ]
  },
  {
   "cell_type": "code",
   "execution_count": 22,
   "metadata": {},
   "outputs": [
    {
     "name": "stdout",
     "output_type": "stream",
     "text": [
      "CIFAR10 Reduced\n",
      "mobius is better by 0.018199999999999994\n",
      "P value is 1.865053780921322e-08\n"
     ]
    }
   ],
   "source": [
    "mobius = [0.8571,0.8591,0.8586,0.8573,0.8579]\n",
    "print('CIFAR10 Reduced')\n",
    "print(\"mobius is better by\", sum(mobius)/5-sum(regular)/5 )\n",
    "print(\"P value is\", ttest_ind(regular, mobius)[1])"
   ]
  },
  {
   "cell_type": "markdown",
   "metadata": {},
   "source": [
    "#### Cutout VS Mobius (mix3, 8 fixed)\n"
   ]
  },
  {
   "cell_type": "code",
   "execution_count": 60,
   "metadata": {},
   "outputs": [
    {
     "name": "stdout",
     "output_type": "stream",
     "text": [
      "mobius is better by 0.008739999999999859\n",
      "P value is 0.0002974667500270965\n"
     ]
    }
   ],
   "source": [
    "mobius = [0.8603,0.8637,0.8614,0.861, 0.8571 ]\n",
    "print('CIFAR10 Reduced')\n",
    "print(\"mobius is better by\", sum(mobius)/5-sum(cutout)/5 )\n",
    "print(\"P value is\", ttest_ind(cutout, mobius)[1])"
   ]
  },
  {
   "cell_type": "markdown",
   "metadata": {},
   "source": [
    "#### Cutout VS Cutout + Mobius (mix3, 8 fixed)"
   ]
  },
  {
   "cell_type": "code",
   "execution_count": 61,
   "metadata": {},
   "outputs": [
    {
     "name": "stdout",
     "output_type": "stream",
     "text": [
      "mobius is better by 0.005059999999999953\n",
      "P value is 0.006442485443262768\n"
     ]
    }
   ],
   "source": [
    "mobius = [0.8584,0.8595,0.8563,0.8537,0.8572]\n",
    "print('CIFAR10 Reduced')\n",
    "print(\"mobius is better by\", sum(mobius)/5-sum(cutout)/5 )\n",
    "print(\"P value is\", ttest_ind(cutout, mobius)[1])"
   ]
  },
  {
   "cell_type": "markdown",
   "metadata": {},
   "source": [
    "#### Cutout VS Mobius (mix3, Restricted Random, std =0.01)"
   ]
  },
  {
   "cell_type": "code",
   "execution_count": 62,
   "metadata": {},
   "outputs": [
    {
     "name": "stdout",
     "output_type": "stream",
     "text": [
      "mobius is better by -0.0023600000000000287\n",
      "P value is 0.1287778323576917\n"
     ]
    }
   ],
   "source": [
    "mobius = [0.848,0.8496,0.8507,0.8527,0.847]\n",
    "print('CIFAR10 Reduced')\n",
    "print(\"mobius is better by\", sum(mobius)/5-sum(cutout)/5 )\n",
    "print(\"P value is\", ttest_ind(cutout, mobius)[1])"
   ]
  },
  {
   "cell_type": "markdown",
   "metadata": {},
   "source": [
    "#### Cutout VS Cutout + Mobius (mix3, Restricted Random, std =0.01)"
   ]
  },
  {
   "cell_type": "code",
   "execution_count": 63,
   "metadata": {},
   "outputs": [
    {
     "name": "stdout",
     "output_type": "stream",
     "text": [
      "mobius is better by 0.0031800000000000717\n",
      "P value is 0.18291492915575724\n"
     ]
    }
   ],
   "source": [
    "mobius = [0.8599,0.8574,0.8574,0.85,0.851]\n",
    "print('CIFAR10 Reduced')\n",
    "print(\"mobius is better by\", sum(mobius)/5-sum(cutout)/5 )\n",
    "print(\"P value is\", ttest_ind(cutout, mobius)[1])"
   ]
  },
  {
   "cell_type": "markdown",
   "metadata": {},
   "source": [
    "#### Cutout VS Mobius (mix3, Restricted Random, std =0.005)"
   ]
  },
  {
   "cell_type": "code",
   "execution_count": 64,
   "metadata": {},
   "outputs": [
    {
     "name": "stdout",
     "output_type": "stream",
     "text": [
      "mobius is better by 0.0032599999999998186\n",
      "P value is 0.013869228435896327\n"
     ]
    }
   ],
   "source": [
    "mobius =  [0.8565,0.8556,0.8549,0.8543,0.8548]\n",
    "print('CIFAR10 Reduced')\n",
    "print(\"mobius is better by\", sum(mobius)/5-sum(cutout)/5 )\n",
    "print(\"P value is\", ttest_ind(cutout, mobius)[1])"
   ]
  },
  {
   "cell_type": "markdown",
   "metadata": {},
   "source": [
    "#### Cutout VS Cutout + Mobius (mix3, Restricted Random, std =0.005)"
   ]
  },
  {
   "cell_type": "code",
   "execution_count": 5,
   "metadata": {},
   "outputs": [
    {
     "name": "stdout",
     "output_type": "stream",
     "text": [
      "CIFAR10 Reduced\n",
      "mobius is better by 0.006039999999999934\n",
      "P value is 0.00039795398758185266\n"
     ]
    }
   ],
   "source": [
    "mobius = [0.8571,0.8591,0.8586,0.8573,0.8579]\n",
    "print('CIFAR10 Reduced')\n",
    "print(\"mobius is better by\", sum(mobius)/5-sum(cutout)/5 )\n",
    "print(\"P value is\", ttest_ind(cutout, mobius)[1])"
   ]
  },
  {
   "cell_type": "markdown",
   "metadata": {},
   "source": [
    "## Tiny Imagenet"
   ]
  },
  {
   "cell_type": "code",
   "execution_count": 67,
   "metadata": {},
   "outputs": [],
   "source": [
    "regular = [0.5483,0.5486,0.5335]\n",
    "cutout = [0.5604,0.5543,0.5399,0.5407]"
   ]
  },
  {
   "cell_type": "markdown",
   "metadata": {},
   "source": [
    "#### regular VS Mobius (mix5)"
   ]
  },
  {
   "cell_type": "code",
   "execution_count": 71,
   "metadata": {},
   "outputs": [
    {
     "name": "stdout",
     "output_type": "stream",
     "text": [
      "tiny\n",
      "mobius is better by 0.0165333333333334\n",
      "P value is 0.021380198425427828\n"
     ]
    }
   ],
   "source": [
    "mobius = [0.5623,0.5627,0.553,0.562]\n",
    "print('tiny')\n",
    "print(\"mobius is better by\", sum(mobius)/len(mobius)-sum(regular)/len(regular) )\n",
    "print(\"P value is\", ttest_ind(regular, mobius)[1])"
   ]
  },
  {
   "cell_type": "markdown",
   "metadata": {},
   "source": [
    "#### regular VS cutout16 + Mobius (mix5)"
   ]
  },
  {
   "cell_type": "code",
   "execution_count": 73,
   "metadata": {},
   "outputs": [
    {
     "name": "stdout",
     "output_type": "stream",
     "text": [
      "tiny\n",
      "mobius is better by 0.01840833333333336\n",
      "P value is 0.030877136280755595\n"
     ]
    }
   ],
   "source": [
    "mobius = [0.559,0.5644,0.5711,0.553]\n",
    "print('tiny')\n",
    "print(\"mobius is better by\", sum(mobius)/len(mobius)-sum(regular)/len(regular) )\n",
    "print(\"P value is\", ttest_ind(regular, mobius)[1])"
   ]
  },
  {
   "cell_type": "markdown",
   "metadata": {},
   "source": [
    "#### cutout VS Mobius (mix5)"
   ]
  },
  {
   "cell_type": "code",
   "execution_count": 74,
   "metadata": {},
   "outputs": [
    {
     "name": "stdout",
     "output_type": "stream",
     "text": [
      "tiny\n",
      "mobius is better by 0.011175000000000046\n",
      "P value is 0.09261965717724362\n"
     ]
    }
   ],
   "source": [
    "mobius = [0.5623,0.5627,0.553,0.562]\n",
    "print('tiny')\n",
    "print(\"mobius is better by\", sum(mobius)/len(mobius)-sum(cutout)/len(cutout) )\n",
    "print(\"P value is\", ttest_ind(cutout, mobius)[1])"
   ]
  },
  {
   "cell_type": "markdown",
   "metadata": {},
   "source": [
    "#### cutout VS cutout16 + Mobius (mix5)"
   ]
  },
  {
   "cell_type": "code",
   "execution_count": 75,
   "metadata": {},
   "outputs": [
    {
     "name": "stdout",
     "output_type": "stream",
     "text": [
      "tiny\n",
      "mobius is better by 0.013050000000000006\n",
      "P value is 0.08670650885222192\n"
     ]
    }
   ],
   "source": [
    "mobius = [0.559,0.5644,0.5711,0.553]\n",
    "print('tiny')\n",
    "print(\"mobius is better by\", sum(mobius)/len(mobius)-sum(cutout)/len(cutout) )\n",
    "print(\"P value is\", ttest_ind(cutout, mobius)[1])"
   ]
  },
  {
   "cell_type": "code",
   "execution_count": null,
   "metadata": {},
   "outputs": [],
   "source": []
  }
 ],
 "metadata": {
  "kernelspec": {
   "display_name": "Python 3",
   "language": "python",
   "name": "python3"
  },
  "language_info": {
   "codemirror_mode": {
    "name": "ipython",
    "version": 3
   },
   "file_extension": ".py",
   "mimetype": "text/x-python",
   "name": "python",
   "nbconvert_exporter": "python",
   "pygments_lexer": "ipython3",
   "version": "3.7.6"
  }
 },
 "nbformat": 4,
 "nbformat_minor": 2
}
