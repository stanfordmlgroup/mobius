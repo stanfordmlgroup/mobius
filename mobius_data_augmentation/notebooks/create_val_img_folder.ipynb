{
 "cells": [
  {
   "cell_type": "code",
   "execution_count": 1,
   "metadata": {},
   "outputs": [],
   "source": [
    "import os"
   ]
  },
  {
   "cell_type": "code",
   "execution_count": null,
   "metadata": {},
   "outputs": [],
   "source": []
  },
  {
   "cell_type": "code",
   "execution_count": 2,
   "metadata": {},
   "outputs": [],
   "source": [
    "dataset_dir = 'tiny-imagenet-200'\n",
    "val_dir = os.path.join(dataset_dir, 'val')\n",
    "img_dir = os.path.join(val_dir, 'images')\n",
    "\n",
    "fp = open(os.path.join(val_dir, 'val_annotations.txt'), 'r')\n",
    "data = fp.readlines()\n",
    "val_img_dict = {}\n",
    "for line in data:\n",
    "    words = line.split('\\t')\n",
    "    val_img_dict[words[0]] = words[1]\n",
    "fp.close()\n",
    "\n",
    "# Create folder if not present and move images into proper folders\n",
    "for img, folder in val_img_dict.items():\n",
    "    newpath = (os.path.join(img_dir, folder))\n",
    "    if not os.path.exists(newpath):\n",
    "        os.makedirs(newpath)\n",
    "    if os.path.exists(os.path.join(img_dir, img)):\n",
    "        os.rename(os.path.join(img_dir, img), os.path.join(newpath, img))"
   ]
  },
  {
   "cell_type": "code",
   "execution_count": 3,
   "metadata": {},
   "outputs": [],
   "source": [
    "import glob"
   ]
  },
  {
   "cell_type": "code",
   "execution_count": 5,
   "metadata": {},
   "outputs": [],
   "source": [
    "for name in glob.glob('tiny-imagenet-200/train/*'):\n",
    "    image_path = name+'/images/'\n",
    "    for img in glob.glob(image_path+'*'):\n",
    "        image_name = img.split('/')[-1]\n",
    "\n",
    "        os.rename(os.path.join(image_path,image_name),os.path.join(name,image_name))\n",
    "    class_name = name.split('/')[-1]\n",
    "    box_name = class_name+'_boxes.txt'\n",
    "    os.remove(name+'/'+box_name)\n",
    "    os.rmdir(name+'/images' )"
   ]
  },
  {
   "cell_type": "code",
   "execution_count": null,
   "metadata": {},
   "outputs": [],
   "source": []
  }
 ],
 "metadata": {
  "kernelspec": {
   "display_name": "Python 3",
   "language": "python",
   "name": "python3"
  },
  "language_info": {
   "codemirror_mode": {
    "name": "ipython",
    "version": 3
   },
   "file_extension": ".py",
   "mimetype": "text/x-python",
   "name": "python",
   "nbconvert_exporter": "python",
   "pygments_lexer": "ipython3",
   "version": "3.7.6"
  }
 },
 "nbformat": 4,
 "nbformat_minor": 2
}
