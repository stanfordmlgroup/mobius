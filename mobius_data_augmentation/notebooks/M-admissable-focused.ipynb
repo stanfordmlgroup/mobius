{
 "cells": [
  {
   "cell_type": "code",
   "execution_count": 1,
   "metadata": {},
   "outputs": [],
   "source": [
    "\n",
    "from collections import defaultdict\n",
    "import matplotlib.pyplot as plt\n",
    "from matplotlib.pyplot import figure\n",
    "\n",
    "#import torch\n",
    "#import torch.nn as nn\n",
    "from pylab import *\n",
    "from numpy import *\n",
    "import numpy as np\n",
    "from PIL import Image\n",
    "import math\n",
    "import time\n",
    "from random import random"
   ]
  },
  {
   "cell_type": "code",
   "execution_count": 2,
   "metadata": {},
   "outputs": [],
   "source": [
    "from scipy.ndimage import geometric_transform\n",
    "from scipy.ndimage import map_coordinates\n",
    "def shift_func(coords,a,b,c,d):\n",
    " \"\"\" Define the mobius transformation, though backwards \"\"\"\n",
    " #turn the first two coordinates into an imaginary number\n",
    " z = coords[0] + 1j*coords[1]\n",
    " w = (d*z-b)/(-c*z+a) #the inverse mobius transform\n",
    " #take the color along for the ride\n",
    " return real(w),imag(w),coords[2]\n"
   ]
  },
  {
   "cell_type": "code",
   "execution_count": 3,
   "metadata": {},
   "outputs": [
    {
     "name": "stdout",
     "output_type": "stream",
     "text": [
      "(32, 32, 3)\n"
     ]
    },
    {
     "data": {
      "text/plain": [
       "<matplotlib.image.AxesImage at 0x7f9869efbcf8>"
      ]
     },
     "execution_count": 3,
     "metadata": {},
     "output_type": "execute_result"
    },
    {
     "data": {
      "image/png": "[encoded data removed]",
      "text/plain": [
       "<Figure size 432x288 with 1 Axes>"
      ]
     },
     "metadata": {
      "needs_background": "light"
     },
     "output_type": "display_data"
    }
   ],
   "source": [
    "# Image attributes\n",
    "img_path='horse.png'\n",
    "img = Image.open(img_path).convert('RGB')\n",
    "image = np.array(img)\n",
    "\n",
    "print(image.shape)\n",
    "height=image.shape[0]\n",
    "width=image.shape[1]\n",
    "imshow(image)"
   ]
  },
  {
   "cell_type": "code",
   "execution_count": 5,
   "metadata": {},
   "outputs": [],
   "source": [
    "def drawpoints(image, point, color):\n",
    "    h = point[0]\n",
    "    w = point[1]\n",
    "    where_to_draw = []\n",
    "    where_to_draw.append(point)\n",
    "    where_to_draw.append([h-1,w])\n",
    "    where_to_draw.append([h+1,w])\n",
    "    where_to_draw.append([h,w-1])\n",
    "    where_to_draw.append([h,w+1])\n",
    "    new_where_to_draw=[]\n",
    "    for item in where_to_draw:\n",
    "        if item[0]>=0 and item[0]<height and item[1]>=0 and item[1]<width:\n",
    "            new_where_to_draw.append(item)\n",
    "\n",
    "    for item in new_where_to_draw:\n",
    "        if color == 'red':\n",
    "            image[item[0],item[1]]=[255,102,102]\n",
    "        elif color == 'green':\n",
    "            image[item[0],item[1]]=[0,204,0]\n",
    "        elif color == 'blue':\n",
    "            image[item[0],item[1]]=[0,128,255]"
   ]
  },
  {
   "cell_type": "code",
   "execution_count": 6,
   "metadata": {},
   "outputs": [],
   "source": [
    "def get_images(original_image,a,b,c,d,new_points,original_points):\n",
    "    height=original_image.shape[0]\n",
    "    width=original_image.shape[1]\n",
    "    e=[complex(0,0)]*height*width\n",
    "    z=np.array(e).reshape(height,width)\n",
    "\n",
    "    for i in range(0,height):\n",
    "        for j in range(0,width):\n",
    "            z[i,j]=complex(i,j)\n",
    "\n",
    "\n",
    "    r = ones((height, width,3),dtype=uint8)*255\n",
    "\n",
    "    w = (a*z+b)/(c*z+d)\n",
    "\n",
    "    first=real(w)*1\n",
    "    second=imag(w)*1\n",
    "    first=first.astype(int)\n",
    "    second=second.astype(int)\n",
    "    f1=first>=0\n",
    "    f2=first<height\n",
    "    f= f1 & f2\n",
    "    s1=second>=0\n",
    "    s2=second<width\n",
    "    s= s1 & s2\n",
    "    combined = s&f\n",
    "\n",
    "    i=np.array(list(range(0,height))*width).reshape(width,height).T\n",
    "    j=np.array(list(range(0,width))*height).reshape(height,width)\n",
    "    r[first[combined],second[combined],:]=original_image[i[combined],j[combined],:]\n",
    "\n",
    "\n",
    "\n",
    "    start = time.time()\n",
    "    r2 = geometric_transform(original_image,shift_func,cval=0,order = 3,output_shape=(height,width,3),mode='constant',extra_arguments=(a,b,c,d))\n",
    "    end = time.time()\n",
    "    print('Time to get interpolation:', end - start)\n",
    "    drawpoints(r2, new_points[0], 'red')\n",
    "    drawpoints(r2, new_points[1], 'green')\n",
    "    drawpoints(r2, new_points[2], 'blue')\n",
    "\n",
    "    drawpoints(original_image, original_points[0], 'red')\n",
    "    drawpoints(original_image, original_points[1], 'green')\n",
    "    drawpoints(original_image, original_points[2], 'blue')\n",
    "\n",
    "    drawpoints(r, new_points[0], 'red')\n",
    "    drawpoints(r, new_points[1], 'green')\n",
    "    drawpoints(r, new_points[2], 'blue')\n",
    "\n",
    "    figure(figsize=(15, 10))\n",
    "    subplot(1,3,1)\n",
    "    title('Original')\n",
    "    imshow(original_image)\n",
    "    subplot(1,3,2)\n",
    "    title('No interpolation')\n",
    "    imshow(r)\n",
    "    subplot(1,3,3)\n",
    "    title('With interpolation')\n",
    "    imshow(r2)"
   ]
  },
  {
   "cell_type": "code",
   "execution_count": 32,
   "metadata": {},
   "outputs": [],
   "source": [
    "def M_admissable(a,b,c,d):\n",
    "    M=3\n",
    "\n",
    "    v1 = np.absolute(a) ** 2 / np.absolute(a*d - b*c)\n",
    "    if not (v1 < M and v1 > 1/M):\n",
    "        return False\n",
    "\n",
    "    v2 = np.absolute(a-32*c) ** 2 / (np.absolute(a*d -b*c))\n",
    "    if not (v2 < M and v2 > 1/M):\n",
    "        return False\n",
    "\n",
    "    v3 = np.absolute(complex(a,-32*c)) ** 2 / np.absolute(a*d-b*c)\n",
    "    if not (v3 < M and v3 > 1/M):\n",
    "        return False\n",
    "\n",
    "    v4 = np.absolute(complex(a-32*c,-32*c)) ** 2 / np.absolute(a*d-b*c)\n",
    "    if not (v4 < M and v4 > 1/M):\n",
    "        return False\n",
    "    \n",
    "    v5 = np.absolute(complex(a-16*c,-16*c)) ** 2 / (np.absolute(a*d-b*c))\n",
    "    if not (v5 < M and v5 > 1/M):\n",
    "        return False\n",
    "\n",
    "    v6 = np.absolute(complex(16*d-b,16*d)/complex(a-16*c,-16*c)-complex(16,16))\n",
    "    if not( v6 < 8):\n",
    "        return False\n",
    "    \n",
    "    \n",
    "    return  True\n",
    "        \n",
    "\n",
    "\n",
    "    "
   ]
  },
  {
   "cell_type": "code",
   "execution_count": 9,
   "metadata": {},
   "outputs": [],
   "source": [
    "zp=[complex(height*random(),width*random()), complex(height*random(),width*random()),complex(height*random(),width*random())] \n",
    "wa=[complex(height*random(),width*random()), complex(height*random(),width*random()),complex(height*random(),width*random())]\n",
    "\n",
    "original_points = np.array([[real(zp[0]),imag(zp[0])],\n",
    "                            [real(zp[1]),imag(zp[1])],\n",
    "                            [real(zp[2]),imag(zp[2])]],dtype=int)\n",
    "new_points = np.array([[real(wa[0]),imag(wa[0])],\n",
    "                            [real(wa[1]),imag(wa[1])],\n",
    "                            [real(wa[2]),imag(wa[2])]],dtype=int)\n",
    "# transformation parameters\n",
    "a = linalg.det([[zp[0]*wa[0], wa[0], 1], \n",
    "                [zp[1]*wa[1], wa[1], 1], \n",
    "                [zp[2]*wa[2], wa[2], 1]]);\n",
    "\n",
    "b = linalg.det([[zp[0]*wa[0], zp[0], wa[0]], \n",
    "                [zp[1]*wa[1], zp[1], wa[1]], \n",
    "                [zp[2]*wa[2], zp[2], wa[2]]]);         \n",
    "\n",
    "\n",
    "c = linalg.det([[zp[0], wa[0], 1], \n",
    "                [zp[1], wa[1], 1], \n",
    "                [zp[2], wa[2], 1]]);\n",
    "\n",
    "d = linalg.det([[zp[0]*wa[0], zp[0], 1], \n",
    "                [zp[1]*wa[1], zp[1], 1], \n",
    "                [zp[2]*wa[2], zp[2], 1]]);\n"
   ]
  },
  {
   "cell_type": "code",
   "execution_count": 10,
   "metadata": {},
   "outputs": [
    {
     "name": "stdout",
     "output_type": "stream",
     "text": [
      "Time to get interpolation: 0.03139662742614746\n"
     ]
    },
    {
     "data": {
      "text/plain": [
       "False"
      ]
     },
     "execution_count": 10,
     "metadata": {},
     "output_type": "execute_result"
    },
    {
     "data": {
      "image/png": "[encoded data removed]",
      "text/plain": [
       "<Figure size 1080x720 with 3 Axes>"
      ]
     },
     "metadata": {
      "needs_background": "light"
     },
     "output_type": "display_data"
    }
   ],
   "source": [
    "oringial_image = image.copy()\n",
    "get_images(oringial_image,a,b,c,d,new_points,original_points)\n",
    "M_admissable(a,b,c,d)"
   ]
  },
  {
   "cell_type": "code",
   "execution_count": 43,
   "metadata": {},
   "outputs": [
    {
     "name": "stdout",
     "output_type": "stream",
     "text": [
      "Time to get interpolation: 0.01845860481262207\n"
     ]
    },
    {
     "data": {
      "text/plain": [
       "True"
      ]
     },
     "execution_count": 43,
     "metadata": {},
     "output_type": "execute_result"
    },
    {
     "data": {
      "image/png": "[encoded data removed]",
      "text/plain": [
       "<Figure size 1080x720 with 3 Axes>"
      ]
     },
     "metadata": {
      "needs_background": "light"
     },
     "output_type": "display_data"
    }
   ],
   "source": [
    "test=False #finding true ones\n",
    "while test==False:\n",
    "    zp=[complex(height*random(),width*random()), complex(height*random(),width*random()),complex(height*random(),width*random())] \n",
    "    wa=[complex(height*random(),width*random()), complex(height*random(),width*random()),complex(height*random(),width*random())]\n",
    "\n",
    "    original_points = np.array([[real(zp[0]),imag(zp[0])],\n",
    "                            [real(zp[1]),imag(zp[1])],\n",
    "                            [real(zp[2]),imag(zp[2])]],dtype=int)\n",
    "    new_points = np.array([[real(wa[0]),imag(wa[0])],\n",
    "                            [real(wa[1]),imag(wa[1])],\n",
    "                            [real(wa[2]),imag(wa[2])]],dtype=int)\n",
    "    # transformation parameters\n",
    "    a = linalg.det([[zp[0]*wa[0], wa[0], 1], \n",
    "                [zp[1]*wa[1], wa[1], 1], \n",
    "                [zp[2]*wa[2], wa[2], 1]]);\n",
    "\n",
    "    b = linalg.det([[zp[0]*wa[0], zp[0], wa[0]], \n",
    "                [zp[1]*wa[1], zp[1], wa[1]], \n",
    "                [zp[2]*wa[2], zp[2], wa[2]]]);         \n",
    "\n",
    "\n",
    "    c = linalg.det([[zp[0], wa[0], 1], \n",
    "                [zp[1], wa[1], 1], \n",
    "                [zp[2], wa[2], 1]]);\n",
    "\n",
    "    d = linalg.det([[zp[0]*wa[0], zp[0], 1], \n",
    "                [zp[1]*wa[1], zp[1], 1], \n",
    "                [zp[2]*wa[2], zp[2], 1]]);\n",
    "    test=M_admissable(a,b,c,d)\n",
    "oringial_image = image.copy()\n",
    "get_images(oringial_image,a,b,c,d,new_points,original_points)\n",
    "M_admissable(a,b,c,d)"
   ]
  },
  {
   "cell_type": "code",
   "execution_count": 20,
   "metadata": {},
   "outputs": [
    {
     "name": "stdout",
     "output_type": "stream",
     "text": [
      "Time to get interpolation: 0.027300119400024414\n"
     ]
    },
    {
     "data": {
      "text/plain": [
       "False"
      ]
     },
     "execution_count": 20,
     "metadata": {},
     "output_type": "execute_result"
    },
    {
     "data": {
      "image/png": "[encoded data removed]",
      "text/plain": [
       "<Figure size 1080x720 with 3 Axes>"
      ]
     },
     "metadata": {
      "needs_background": "light"
     },
     "output_type": "display_data"
    }
   ],
   "source": [
    "#trying to mimic the false negative\n",
    "zp=[complex(height*0.8,width*0.5), complex(height*0.5,width*0.3), complex(height*0.25,width*0.5)] \n",
    "wa=[complex(height*0.25,width*0.5), complex(height*0.5,width*0.75), complex(height*0.8,width*0.5)]\n",
    "\n",
    "original_points = np.array([[real(zp[0]),imag(zp[0])],\n",
    "                            [real(zp[1]),imag(zp[1])],\n",
    "                            [real(zp[2]),imag(zp[2])]],dtype=int)\n",
    "new_points = np.array([[real(wa[0]),imag(wa[0])],\n",
    "                            [real(wa[1]),imag(wa[1])],\n",
    "                            [real(wa[2]),imag(wa[2])]],dtype=int)\n",
    "# transformation parameters\n",
    "a = linalg.det([[zp[0]*wa[0], wa[0], 1], \n",
    "                [zp[1]*wa[1], wa[1], 1], \n",
    "                [zp[2]*wa[2], wa[2], 1]]);\n",
    "\n",
    "b = linalg.det([[zp[0]*wa[0], zp[0], wa[0]], \n",
    "                [zp[1]*wa[1], zp[1], wa[1]], \n",
    "                [zp[2]*wa[2], zp[2], wa[2]]]);         \n",
    "\n",
    "\n",
    "c = linalg.det([[zp[0], wa[0], 1], \n",
    "                [zp[1], wa[1], 1], \n",
    "                [zp[2], wa[2], 1]]);\n",
    "\n",
    "d = linalg.det([[zp[0]*wa[0], zp[0], 1], \n",
    "                [zp[1]*wa[1], zp[1], 1], \n",
    "                [zp[2]*wa[2], zp[2], 1]]);\n",
    "    \n",
    "    \n",
    "oringial_image = image.copy()\n",
    "get_images(oringial_image,a,b,c,d,new_points,original_points)\n",
    "M_admissable(a,b,c,d)"
   ]
  },
  {
   "cell_type": "code",
   "execution_count": null,
   "metadata": {},
   "outputs": [],
   "source": [
    "\n"
   ]
  },
  {
   "cell_type": "code",
   "execution_count": 127,
   "metadata": {},
   "outputs": [
    {
     "data": {
      "text/plain": [
       "True"
      ]
     },
     "execution_count": 127,
     "metadata": {},
     "output_type": "execute_result"
    }
   ],
   "source": []
  },
  {
   "cell_type": "code",
   "execution_count": 128,
   "metadata": {},
   "outputs": [
    {
     "data": {
      "text/plain": [
       "1.1372461573103794"
      ]
     },
     "execution_count": 128,
     "metadata": {},
     "output_type": "execute_result"
    }
   ],
   "source": [
    "np.absolute(a-32*c) ** 2 / (np.absolute(a*d -b*c)) # just a bit complex syntax test below"
   ]
  },
  {
   "cell_type": "code",
   "execution_count": 129,
   "metadata": {},
   "outputs": [
    {
     "data": {
      "text/plain": [
       "(1351.6799999999992+9.003997547551982e-13j)"
      ]
     },
     "execution_count": 129,
     "metadata": {},
     "output_type": "execute_result"
    }
   ],
   "source": [
    "a"
   ]
  },
  {
   "cell_type": "code",
   "execution_count": 130,
   "metadata": {},
   "outputs": [
    {
     "data": {
      "text/plain": [
       "2426.3398555025237"
      ]
     },
     "execution_count": 130,
     "metadata": {},
     "output_type": "execute_result"
    }
   ],
   "source": [
    "np.absolute(complex(a,-32*c))"
   ]
  },
  {
   "cell_type": "code",
   "execution_count": 106,
   "metadata": {},
   "outputs": [
    {
     "data": {
      "text/plain": [
       "(-28.159999999999993+28.16000000000008j)"
      ]
     },
     "execution_count": 106,
     "metadata": {},
     "output_type": "execute_result"
    }
   ],
   "source": [
    "c"
   ]
  },
  {
   "cell_type": "code",
   "execution_count": 112,
   "metadata": {},
   "outputs": [],
   "source": [
    "aa=complex(0,1)\n",
    "cc=complex(2,3)"
   ]
  },
  {
   "cell_type": "code",
   "execution_count": 113,
   "metadata": {},
   "outputs": [
    {
     "data": {
      "text/plain": [
       "(-3+2j)"
      ]
     },
     "execution_count": 113,
     "metadata": {},
     "output_type": "execute_result"
    }
   ],
   "source": [
    "complex(0,cc)"
   ]
  },
  {
   "cell_type": "code",
   "execution_count": 115,
   "metadata": {},
   "outputs": [
    {
     "data": {
      "text/plain": [
       "2426.3398555025237"
      ]
     },
     "execution_count": 115,
     "metadata": {},
     "output_type": "execute_result"
    }
   ],
   "source": [
    "np.absolute(32*c+a*complex(0,1))"
   ]
  },
  {
   "cell_type": "code",
   "execution_count": null,
   "metadata": {},
   "outputs": [],
   "source": []
  }
 ],
 "metadata": {
  "kernelspec": {
   "display_name": "Python 3",
   "language": "python",
   "name": "python3"
  },
  "language_info": {
   "codemirror_mode": {
    "name": "ipython",
    "version": 3
   },
   "file_extension": ".py",
   "mimetype": "text/x-python",
   "name": "python",
   "nbconvert_exporter": "python",
   "pygments_lexer": "ipython3",
   "version": "3.7.3"
  }
 },
 "nbformat": 4,
 "nbformat_minor": 2
}
